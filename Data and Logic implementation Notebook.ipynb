{
 "cells": [
  {
   "cell_type": "markdown",
   "id": "a6ea12fe-ef92-4432-9f1a-df553edab47f",
   "metadata": {},
   "source": [
    "## Exploratory Data Analysis"
   ]
  },
  {
   "cell_type": "code",
   "execution_count": 1,
   "id": "472767d7-e508-42d1-a405-95ddf75e9fb0",
   "metadata": {},
   "outputs": [],
   "source": [
    "import pandas as pd"
   ]
  },
  {
   "cell_type": "code",
   "execution_count": 2,
   "id": "e814f591-bd40-4793-8358-f4d31e5f0a2e",
   "metadata": {},
   "outputs": [],
   "source": [
    "products = pd.read_csv(\"data/products.csv\")\n",
    "sales = pd.read_csv(\"data/sales.csv\")"
   ]
  },
  {
   "cell_type": "code",
   "execution_count": 3,
   "id": "7c0057bc-4d7f-4ed2-a119-819a156b06a3",
   "metadata": {},
   "outputs": [
    {
     "data": {
      "text/html": [
       "<div>\n",
       "<style scoped>\n",
       "    .dataframe tbody tr th:only-of-type {\n",
       "        vertical-align: middle;\n",
       "    }\n",
       "\n",
       "    .dataframe tbody tr th {\n",
       "        vertical-align: top;\n",
       "    }\n",
       "\n",
       "    .dataframe thead th {\n",
       "        text-align: right;\n",
       "    }\n",
       "</style>\n",
       "<table border=\"1\" class=\"dataframe\">\n",
       "  <thead>\n",
       "    <tr style=\"text-align: right;\">\n",
       "      <th></th>\n",
       "      <th>sku</th>\n",
       "      <th>name</th>\n",
       "      <th>current_price</th>\n",
       "      <th>cost_price</th>\n",
       "      <th>stock</th>\n",
       "    </tr>\n",
       "  </thead>\n",
       "  <tbody>\n",
       "    <tr>\n",
       "      <th>0</th>\n",
       "      <td>A123</td>\n",
       "      <td>Item A</td>\n",
       "      <td>649.99</td>\n",
       "      <td>500</td>\n",
       "      <td>150</td>\n",
       "    </tr>\n",
       "    <tr>\n",
       "      <th>1</th>\n",
       "      <td>B456</td>\n",
       "      <td>Item B</td>\n",
       "      <td>699.00</td>\n",
       "      <td>550</td>\n",
       "      <td>15</td>\n",
       "    </tr>\n",
       "    <tr>\n",
       "      <th>2</th>\n",
       "      <td>C789</td>\n",
       "      <td>Item C</td>\n",
       "      <td>999.00</td>\n",
       "      <td>500</td>\n",
       "      <td>250</td>\n",
       "    </tr>\n",
       "  </tbody>\n",
       "</table>\n",
       "</div>"
      ],
      "text/plain": [
       "    sku    name  current_price  cost_price  stock\n",
       "0  A123  Item A         649.99         500    150\n",
       "1  B456  Item B         699.00         550     15\n",
       "2  C789  Item C         999.00         500    250"
      ]
     },
     "execution_count": 3,
     "metadata": {},
     "output_type": "execute_result"
    }
   ],
   "source": [
    "products.head()"
   ]
  },
  {
   "cell_type": "code",
   "execution_count": 4,
   "id": "95e1803d-e4ee-451f-bc3c-7c687f1d34c0",
   "metadata": {},
   "outputs": [
    {
     "data": {
      "text/html": [
       "<div>\n",
       "<style scoped>\n",
       "    .dataframe tbody tr th:only-of-type {\n",
       "        vertical-align: middle;\n",
       "    }\n",
       "\n",
       "    .dataframe tbody tr th {\n",
       "        vertical-align: top;\n",
       "    }\n",
       "\n",
       "    .dataframe thead th {\n",
       "        text-align: right;\n",
       "    }\n",
       "</style>\n",
       "<table border=\"1\" class=\"dataframe\">\n",
       "  <thead>\n",
       "    <tr style=\"text-align: right;\">\n",
       "      <th></th>\n",
       "      <th>sku</th>\n",
       "      <th>quantity_sold</th>\n",
       "    </tr>\n",
       "  </thead>\n",
       "  <tbody>\n",
       "    <tr>\n",
       "      <th>0</th>\n",
       "      <td>A123</td>\n",
       "      <td>10</td>\n",
       "    </tr>\n",
       "    <tr>\n",
       "      <th>1</th>\n",
       "      <td>B456</td>\n",
       "      <td>35</td>\n",
       "    </tr>\n",
       "    <tr>\n",
       "      <th>2</th>\n",
       "      <td>C789</td>\n",
       "      <td>0</td>\n",
       "    </tr>\n",
       "  </tbody>\n",
       "</table>\n",
       "</div>"
      ],
      "text/plain": [
       "    sku  quantity_sold\n",
       "0  A123             10\n",
       "1  B456             35\n",
       "2  C789              0"
      ]
     },
     "execution_count": 4,
     "metadata": {},
     "output_type": "execute_result"
    }
   ],
   "source": [
    "sales.head()"
   ]
  },
  {
   "cell_type": "code",
   "execution_count": 6,
   "id": "70be6ab7-9de6-4d73-a5b8-c7f346f09a99",
   "metadata": {},
   "outputs": [
    {
     "data": {
      "text/html": [
       "<div>\n",
       "<style scoped>\n",
       "    .dataframe tbody tr th:only-of-type {\n",
       "        vertical-align: middle;\n",
       "    }\n",
       "\n",
       "    .dataframe tbody tr th {\n",
       "        vertical-align: top;\n",
       "    }\n",
       "\n",
       "    .dataframe thead th {\n",
       "        text-align: right;\n",
       "    }\n",
       "</style>\n",
       "<table border=\"1\" class=\"dataframe\">\n",
       "  <thead>\n",
       "    <tr style=\"text-align: right;\">\n",
       "      <th></th>\n",
       "      <th>current_price</th>\n",
       "      <th>cost_price</th>\n",
       "      <th>stock</th>\n",
       "    </tr>\n",
       "  </thead>\n",
       "  <tbody>\n",
       "    <tr>\n",
       "      <th>count</th>\n",
       "      <td>3.000000</td>\n",
       "      <td>3.000000</td>\n",
       "      <td>3.000000</td>\n",
       "    </tr>\n",
       "    <tr>\n",
       "      <th>mean</th>\n",
       "      <td>782.663333</td>\n",
       "      <td>516.666667</td>\n",
       "      <td>138.333333</td>\n",
       "    </tr>\n",
       "    <tr>\n",
       "      <th>std</th>\n",
       "      <td>188.948829</td>\n",
       "      <td>28.867513</td>\n",
       "      <td>117.933597</td>\n",
       "    </tr>\n",
       "    <tr>\n",
       "      <th>min</th>\n",
       "      <td>649.990000</td>\n",
       "      <td>500.000000</td>\n",
       "      <td>15.000000</td>\n",
       "    </tr>\n",
       "    <tr>\n",
       "      <th>25%</th>\n",
       "      <td>674.495000</td>\n",
       "      <td>500.000000</td>\n",
       "      <td>82.500000</td>\n",
       "    </tr>\n",
       "    <tr>\n",
       "      <th>50%</th>\n",
       "      <td>699.000000</td>\n",
       "      <td>500.000000</td>\n",
       "      <td>150.000000</td>\n",
       "    </tr>\n",
       "    <tr>\n",
       "      <th>75%</th>\n",
       "      <td>849.000000</td>\n",
       "      <td>525.000000</td>\n",
       "      <td>200.000000</td>\n",
       "    </tr>\n",
       "    <tr>\n",
       "      <th>max</th>\n",
       "      <td>999.000000</td>\n",
       "      <td>550.000000</td>\n",
       "      <td>250.000000</td>\n",
       "    </tr>\n",
       "  </tbody>\n",
       "</table>\n",
       "</div>"
      ],
      "text/plain": [
       "       current_price  cost_price       stock\n",
       "count       3.000000    3.000000    3.000000\n",
       "mean      782.663333  516.666667  138.333333\n",
       "std       188.948829   28.867513  117.933597\n",
       "min       649.990000  500.000000   15.000000\n",
       "25%       674.495000  500.000000   82.500000\n",
       "50%       699.000000  500.000000  150.000000\n",
       "75%       849.000000  525.000000  200.000000\n",
       "max       999.000000  550.000000  250.000000"
      ]
     },
     "execution_count": 6,
     "metadata": {},
     "output_type": "execute_result"
    }
   ],
   "source": [
    "products.describe()"
   ]
  },
  {
   "cell_type": "code",
   "execution_count": 17,
   "id": "6f781415-38a2-4f55-8e02-cc6e3587a400",
   "metadata": {},
   "outputs": [
    {
     "data": {
      "text/html": [
       "<div>\n",
       "<style scoped>\n",
       "    .dataframe tbody tr th:only-of-type {\n",
       "        vertical-align: middle;\n",
       "    }\n",
       "\n",
       "    .dataframe tbody tr th {\n",
       "        vertical-align: top;\n",
       "    }\n",
       "\n",
       "    .dataframe thead th {\n",
       "        text-align: right;\n",
       "    }\n",
       "</style>\n",
       "<table border=\"1\" class=\"dataframe\">\n",
       "  <thead>\n",
       "    <tr style=\"text-align: right;\">\n",
       "      <th></th>\n",
       "      <th>quantity_sold</th>\n",
       "    </tr>\n",
       "  </thead>\n",
       "  <tbody>\n",
       "    <tr>\n",
       "      <th>count</th>\n",
       "      <td>3.000000</td>\n",
       "    </tr>\n",
       "    <tr>\n",
       "      <th>mean</th>\n",
       "      <td>15.000000</td>\n",
       "    </tr>\n",
       "    <tr>\n",
       "      <th>std</th>\n",
       "      <td>18.027756</td>\n",
       "    </tr>\n",
       "    <tr>\n",
       "      <th>min</th>\n",
       "      <td>0.000000</td>\n",
       "    </tr>\n",
       "    <tr>\n",
       "      <th>25%</th>\n",
       "      <td>5.000000</td>\n",
       "    </tr>\n",
       "    <tr>\n",
       "      <th>50%</th>\n",
       "      <td>10.000000</td>\n",
       "    </tr>\n",
       "    <tr>\n",
       "      <th>75%</th>\n",
       "      <td>22.500000</td>\n",
       "    </tr>\n",
       "    <tr>\n",
       "      <th>max</th>\n",
       "      <td>35.000000</td>\n",
       "    </tr>\n",
       "  </tbody>\n",
       "</table>\n",
       "</div>"
      ],
      "text/plain": [
       "       quantity_sold\n",
       "count       3.000000\n",
       "mean       15.000000\n",
       "std        18.027756\n",
       "min         0.000000\n",
       "25%         5.000000\n",
       "50%        10.000000\n",
       "75%        22.500000\n",
       "max        35.000000"
      ]
     },
     "execution_count": 17,
     "metadata": {},
     "output_type": "execute_result"
    }
   ],
   "source": [
    "sales.describe()"
   ]
  },
  {
   "cell_type": "markdown",
   "id": "1463dca9-87aa-40f6-b77e-905439f1f22a",
   "metadata": {},
   "source": [
    "## Data Aggregation"
   ]
  },
  {
   "cell_type": "code",
   "execution_count": 8,
   "id": "69e33c9e-da27-4c8b-adeb-03344d2f9d33",
   "metadata": {},
   "outputs": [],
   "source": [
    "sales_summary = sales.groupby('sku')['quantity_sold'].sum()"
   ]
  },
  {
   "cell_type": "code",
   "execution_count": 9,
   "id": "d6c8430c-b9c1-4412-9395-350d93ae84cb",
   "metadata": {},
   "outputs": [
    {
     "data": {
      "text/plain": [
       "sku\n",
       "A123    10\n",
       "B456    35\n",
       "C789     0\n",
       "Name: quantity_sold, dtype: int64"
      ]
     },
     "execution_count": 9,
     "metadata": {},
     "output_type": "execute_result"
    }
   ],
   "source": [
    "sales_summary\n"
   ]
  },
  {
   "cell_type": "code",
   "execution_count": 10,
   "id": "9d9970e8-0f39-4700-82e5-f4a3446b0b2f",
   "metadata": {},
   "outputs": [],
   "source": [
    "data = pd.merge(products, sales, on='sku')"
   ]
  },
  {
   "cell_type": "code",
   "execution_count": 11,
   "id": "6e3dc0bc-5db8-4834-bcf5-7f578d50d189",
   "metadata": {},
   "outputs": [
    {
     "data": {
      "text/html": [
       "<div>\n",
       "<style scoped>\n",
       "    .dataframe tbody tr th:only-of-type {\n",
       "        vertical-align: middle;\n",
       "    }\n",
       "\n",
       "    .dataframe tbody tr th {\n",
       "        vertical-align: top;\n",
       "    }\n",
       "\n",
       "    .dataframe thead th {\n",
       "        text-align: right;\n",
       "    }\n",
       "</style>\n",
       "<table border=\"1\" class=\"dataframe\">\n",
       "  <thead>\n",
       "    <tr style=\"text-align: right;\">\n",
       "      <th></th>\n",
       "      <th>sku</th>\n",
       "      <th>name</th>\n",
       "      <th>current_price</th>\n",
       "      <th>cost_price</th>\n",
       "      <th>stock</th>\n",
       "      <th>quantity_sold</th>\n",
       "    </tr>\n",
       "  </thead>\n",
       "  <tbody>\n",
       "    <tr>\n",
       "      <th>0</th>\n",
       "      <td>A123</td>\n",
       "      <td>Item A</td>\n",
       "      <td>649.99</td>\n",
       "      <td>500</td>\n",
       "      <td>150</td>\n",
       "      <td>10</td>\n",
       "    </tr>\n",
       "    <tr>\n",
       "      <th>1</th>\n",
       "      <td>B456</td>\n",
       "      <td>Item B</td>\n",
       "      <td>699.00</td>\n",
       "      <td>550</td>\n",
       "      <td>15</td>\n",
       "      <td>35</td>\n",
       "    </tr>\n",
       "    <tr>\n",
       "      <th>2</th>\n",
       "      <td>C789</td>\n",
       "      <td>Item C</td>\n",
       "      <td>999.00</td>\n",
       "      <td>500</td>\n",
       "      <td>250</td>\n",
       "      <td>0</td>\n",
       "    </tr>\n",
       "  </tbody>\n",
       "</table>\n",
       "</div>"
      ],
      "text/plain": [
       "    sku    name  current_price  cost_price  stock  quantity_sold\n",
       "0  A123  Item A         649.99         500    150             10\n",
       "1  B456  Item B         699.00         550     15             35\n",
       "2  C789  Item C         999.00         500    250              0"
      ]
     },
     "execution_count": 11,
     "metadata": {},
     "output_type": "execute_result"
    }
   ],
   "source": [
    "data"
   ]
  },
  {
   "cell_type": "markdown",
   "id": "8d0678ae-6726-4208-9bb9-ca63c14cf2b7",
   "metadata": {},
   "source": [
    "## Pricing Logic\n"
   ]
  },
  {
   "cell_type": "code",
   "execution_count": 12,
   "id": "94f06a19-0402-41f9-85fc-11cb725e64a9",
   "metadata": {},
   "outputs": [],
   "source": [
    "def apply_pricing_rules(row):\n",
    "    price = row['current_price']\n",
    "    cost = row['cost_price']\n",
    "    stock = row['stock']\n",
    "    sold = row['quantity_sold']\n",
    "\n",
    "    new_price = price\n",
    "\n",
    "    if stock < 20 and sold > 30:\n",
    "        new_price = price * 1.15\n",
    "\n",
    "    elif stock > 200 and sold == 0:\n",
    "        new_price = price * 0.7\n",
    "\n",
    "    elif stock > 100 and sold  < 20:\n",
    "        new_price = price * 0.90\n",
    "\n",
    "    min_price = cost * 1.2\n",
    "    if new_price < min_price:\n",
    "        new_price = min_price\n",
    "\n",
    "    return round(new_price, 2)"
   ]
  },
  {
   "cell_type": "code",
   "execution_count": 14,
   "id": "c78ea36f-c224-4f6f-b1e7-68258f130a75",
   "metadata": {},
   "outputs": [],
   "source": [
    "data['new_price'] = data.apply(apply_pricing_rules, axis=1)"
   ]
  },
  {
   "cell_type": "code",
   "execution_count": 15,
   "id": "62664cf8-f6ea-406c-a5e2-2af45c13f997",
   "metadata": {},
   "outputs": [
    {
     "data": {
      "text/html": [
       "<div>\n",
       "<style scoped>\n",
       "    .dataframe tbody tr th:only-of-type {\n",
       "        vertical-align: middle;\n",
       "    }\n",
       "\n",
       "    .dataframe tbody tr th {\n",
       "        vertical-align: top;\n",
       "    }\n",
       "\n",
       "    .dataframe thead th {\n",
       "        text-align: right;\n",
       "    }\n",
       "</style>\n",
       "<table border=\"1\" class=\"dataframe\">\n",
       "  <thead>\n",
       "    <tr style=\"text-align: right;\">\n",
       "      <th></th>\n",
       "      <th>sku</th>\n",
       "      <th>name</th>\n",
       "      <th>current_price</th>\n",
       "      <th>cost_price</th>\n",
       "      <th>stock</th>\n",
       "      <th>quantity_sold</th>\n",
       "      <th>new_price</th>\n",
       "    </tr>\n",
       "  </thead>\n",
       "  <tbody>\n",
       "    <tr>\n",
       "      <th>0</th>\n",
       "      <td>A123</td>\n",
       "      <td>Item A</td>\n",
       "      <td>649.99</td>\n",
       "      <td>500</td>\n",
       "      <td>150</td>\n",
       "      <td>10</td>\n",
       "      <td>600.00</td>\n",
       "    </tr>\n",
       "    <tr>\n",
       "      <th>1</th>\n",
       "      <td>B456</td>\n",
       "      <td>Item B</td>\n",
       "      <td>699.00</td>\n",
       "      <td>550</td>\n",
       "      <td>15</td>\n",
       "      <td>35</td>\n",
       "      <td>803.85</td>\n",
       "    </tr>\n",
       "    <tr>\n",
       "      <th>2</th>\n",
       "      <td>C789</td>\n",
       "      <td>Item C</td>\n",
       "      <td>999.00</td>\n",
       "      <td>500</td>\n",
       "      <td>250</td>\n",
       "      <td>0</td>\n",
       "      <td>699.30</td>\n",
       "    </tr>\n",
       "  </tbody>\n",
       "</table>\n",
       "</div>"
      ],
      "text/plain": [
       "    sku    name  current_price  cost_price  stock  quantity_sold  new_price\n",
       "0  A123  Item A         649.99         500    150             10     600.00\n",
       "1  B456  Item B         699.00         550     15             35     803.85\n",
       "2  C789  Item C         999.00         500    250              0     699.30"
      ]
     },
     "execution_count": 15,
     "metadata": {},
     "output_type": "execute_result"
    }
   ],
   "source": [
    "data"
   ]
  },
  {
   "cell_type": "markdown",
   "id": "5fc8e00e-ca4d-4786-b020-427cd5643ed3",
   "metadata": {},
   "source": [
    "## Data Splitting for better output"
   ]
  },
  {
   "cell_type": "code",
   "execution_count": 22,
   "id": "b7abc22e-5aa9-4076-aa2d-8ed1e229f5fe",
   "metadata": {},
   "outputs": [],
   "source": [
    "output = data[['sku', 'current_price', 'new_price']].copy()"
   ]
  },
  {
   "cell_type": "code",
   "execution_count": 26,
   "id": "49c71237-3d33-4f7b-9488-6158e8aa7a0d",
   "metadata": {},
   "outputs": [
    {
     "data": {
      "text/html": [
       "<div>\n",
       "<style scoped>\n",
       "    .dataframe tbody tr th:only-of-type {\n",
       "        vertical-align: middle;\n",
       "    }\n",
       "\n",
       "    .dataframe tbody tr th {\n",
       "        vertical-align: top;\n",
       "    }\n",
       "\n",
       "    .dataframe thead th {\n",
       "        text-align: right;\n",
       "    }\n",
       "</style>\n",
       "<table border=\"1\" class=\"dataframe\">\n",
       "  <thead>\n",
       "    <tr style=\"text-align: right;\">\n",
       "      <th></th>\n",
       "      <th>sku</th>\n",
       "      <th>old_price</th>\n",
       "      <th>new_price</th>\n",
       "    </tr>\n",
       "  </thead>\n",
       "  <tbody>\n",
       "    <tr>\n",
       "      <th>0</th>\n",
       "      <td>A123</td>\n",
       "      <td>649.99</td>\n",
       "      <td>600.00</td>\n",
       "    </tr>\n",
       "    <tr>\n",
       "      <th>1</th>\n",
       "      <td>B456</td>\n",
       "      <td>699.00</td>\n",
       "      <td>803.85</td>\n",
       "    </tr>\n",
       "    <tr>\n",
       "      <th>2</th>\n",
       "      <td>C789</td>\n",
       "      <td>999.00</td>\n",
       "      <td>699.30</td>\n",
       "    </tr>\n",
       "  </tbody>\n",
       "</table>\n",
       "</div>"
      ],
      "text/plain": [
       "    sku  old_price  new_price\n",
       "0  A123     649.99     600.00\n",
       "1  B456     699.00     803.85\n",
       "2  C789     999.00     699.30"
      ]
     },
     "execution_count": 26,
     "metadata": {},
     "output_type": "execute_result"
    }
   ],
   "source": [
    "output"
   ]
  },
  {
   "cell_type": "code",
   "execution_count": 28,
   "id": "fbd45522-ff9d-4b2c-84aa-5ae7cbb316d0",
   "metadata": {},
   "outputs": [],
   "source": [
    "output.rename(columns={'current_price': 'old_price'}, inplace=True)\n",
    "output['old_price'] = output['old_price'].apply(lambda x: f\"{x:.2f}$\")\n",
    "output['new_price'] = output['new_price'].apply(lambda x: f\"{x:.2f}$\")"
   ]
  },
  {
   "cell_type": "code",
   "execution_count": 29,
   "id": "75f7a411-a7bf-4dc3-830f-88af845133f3",
   "metadata": {},
   "outputs": [
    {
     "data": {
      "text/html": [
       "<div>\n",
       "<style scoped>\n",
       "    .dataframe tbody tr th:only-of-type {\n",
       "        vertical-align: middle;\n",
       "    }\n",
       "\n",
       "    .dataframe tbody tr th {\n",
       "        vertical-align: top;\n",
       "    }\n",
       "\n",
       "    .dataframe thead th {\n",
       "        text-align: right;\n",
       "    }\n",
       "</style>\n",
       "<table border=\"1\" class=\"dataframe\">\n",
       "  <thead>\n",
       "    <tr style=\"text-align: right;\">\n",
       "      <th></th>\n",
       "      <th>sku</th>\n",
       "      <th>old_price</th>\n",
       "      <th>new_price</th>\n",
       "    </tr>\n",
       "  </thead>\n",
       "  <tbody>\n",
       "    <tr>\n",
       "      <th>0</th>\n",
       "      <td>A123</td>\n",
       "      <td>649.99$</td>\n",
       "      <td>600.00$</td>\n",
       "    </tr>\n",
       "    <tr>\n",
       "      <th>1</th>\n",
       "      <td>B456</td>\n",
       "      <td>699.00$</td>\n",
       "      <td>803.85$</td>\n",
       "    </tr>\n",
       "    <tr>\n",
       "      <th>2</th>\n",
       "      <td>C789</td>\n",
       "      <td>999.00$</td>\n",
       "      <td>699.30$</td>\n",
       "    </tr>\n",
       "  </tbody>\n",
       "</table>\n",
       "</div>"
      ],
      "text/plain": [
       "    sku old_price new_price\n",
       "0  A123   649.99$   600.00$\n",
       "1  B456   699.00$   803.85$\n",
       "2  C789   999.00$   699.30$"
      ]
     },
     "execution_count": 29,
     "metadata": {},
     "output_type": "execute_result"
    }
   ],
   "source": [
    "output"
   ]
  },
  {
   "cell_type": "code",
   "execution_count": null,
   "id": "86ce24c2-8fd2-4b1f-a696-d8499f861292",
   "metadata": {},
   "outputs": [],
   "source": []
  }
 ],
 "metadata": {
  "kernelspec": {
   "display_name": "Python 3 (ipykernel)",
   "language": "python",
   "name": "python3"
  },
  "language_info": {
   "codemirror_mode": {
    "name": "ipython",
    "version": 3
   },
   "file_extension": ".py",
   "mimetype": "text/x-python",
   "name": "python",
   "nbconvert_exporter": "python",
   "pygments_lexer": "ipython3",
   "version": "3.12.7"
  }
 },
 "nbformat": 4,
 "nbformat_minor": 5
}
